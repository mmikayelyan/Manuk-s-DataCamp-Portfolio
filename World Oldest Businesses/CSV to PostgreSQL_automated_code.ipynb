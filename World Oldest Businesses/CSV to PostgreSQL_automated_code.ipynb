{
 "cells": [
  {
   "cell_type": "markdown",
   "id": "7c64044d",
   "metadata": {},
   "source": [
    "# Importing a CSV file into a PostgrSQL database"
   ]
  },
  {
   "cell_type": "markdown",
   "id": "3c4b1cb2",
   "metadata": {},
   "source": [
    "## Steps\n",
    "- import a csv file into a pd dataframe \n",
    "- clean the table name and remove all the all extra symbols, spaces, capital letters\n",
    "- clean the column headers and remove all the all extra symbols, spaces, capital letters\n",
    "- write the create table SQL statement\n",
    "- import the data into the db"
   ]
  },
  {
   "cell_type": "code",
   "execution_count": 1,
   "id": "551f3ce8",
   "metadata": {},
   "outputs": [],
   "source": [
    "# import libraries\n",
    "import os\n",
    "import numpy as np\n",
    "import pandas as pd\n",
    "import psycopg2\n",
    "import shutil"
   ]
  },
  {
   "cell_type": "code",
   "execution_count": null,
   "id": "2ed984a4",
   "metadata": {
    "scrolled": true
   },
   "outputs": [],
   "source": [
    "os.chdir(r'C:\\-------------\\World Oldest Businesses\\datasets')\n",
    "os.getcwd()"
   ]
  },
  {
   "cell_type": "markdown",
   "id": "b2adebaf",
   "metadata": {},
   "source": [
    "## Find CSV files in directory"
   ]
  },
  {
   "cell_type": "code",
   "execution_count": 3,
   "id": "556c9fb0",
   "metadata": {},
   "outputs": [],
   "source": [
    "# find CSV files in my currecnt working directory\n",
    "# isolate only CSV files\n",
    "\n",
    "csv_files=[]\n",
    "for file in os.listdir(os.getcwd()):\n",
    "    if file.endswith('.csv'):\n",
    "        csv_files.append(file)"
   ]
  },
  {
   "cell_type": "code",
   "execution_count": 4,
   "id": "508f3088",
   "metadata": {},
   "outputs": [],
   "source": [
    "# make a new directory\n",
    "\n",
    "dataset_dir = 'datasets'\n",
    "\n",
    "# create the bash command to make a new directory\n",
    "#  mkdir dataset_dir\n",
    "\n",
    "try:\n",
    "    mkdir = 'mkdir {0}'.format(dataset_dir)\n",
    "    os.system(mkdir)\n",
    "except:\n",
    "    pass"
   ]
  },
  {
   "cell_type": "code",
   "execution_count": 5,
   "id": "394e50aa",
   "metadata": {},
   "outputs": [],
   "source": [
    "# construct the full path of the file in the main folder\n",
    "data_path = os.getcwd() + '\\\\' + dataset_dir + '\\\\'"
   ]
  },
  {
   "cell_type": "code",
   "execution_count": 6,
   "id": "755c92e1",
   "metadata": {},
   "outputs": [],
   "source": [
    "# loop through all files in the main folder\n",
    "for file_name in os.listdir(os.getcwd()):\n",
    "    # check if the file is a CSV file\n",
    "    if file_name.endswith('.csv'):\n",
    "        # construct the full path of the file in the main folder\n",
    "        file_path = os.path.join(os.getcwd(), file_name)\n",
    "\n",
    "        # construct the full path of the file in the datasets subfolder\n",
    "        new_file_path = os.path.join(data_path, file_name)\n",
    "\n",
    "        # use the shutil module's move() function to move the file\n",
    "        shutil.copy(file_path, new_file_path)"
   ]
  },
  {
   "cell_type": "code",
   "execution_count": 7,
   "id": "d15165b3",
   "metadata": {
    "scrolled": true
   },
   "outputs": [
    {
     "name": "stdout",
     "output_type": "stream",
     "text": [
      "businesses.csv\n",
      "categories.csv\n",
      "countries.csv\n"
     ]
    }
   ],
   "source": [
    "data_path = os.getcwd() + '/' + dataset_dir + '/'\n",
    "\n",
    "df = {}\n",
    "for file in csv_files:\n",
    "    try:\n",
    "        df[file] = pd.read_csv(data_path+file)\n",
    "    except UnicodeDecodeError:\n",
    "        df[file] = pd.read_csv(data_path+file, encoding=\"ISO-8859-1\")\n",
    "    print(file)"
   ]
  },
  {
   "cell_type": "markdown",
   "id": "a2fd609d",
   "metadata": {},
   "source": [
    "## Clean table names and column names"
   ]
  },
  {
   "cell_type": "code",
   "execution_count": 8,
   "id": "07b54145",
   "metadata": {},
   "outputs": [
    {
     "name": "stdout",
     "output_type": "stream",
     "text": [
      "opened database successfully\n",
      "businesses was created successfully\n",
      "file opened in memory\n",
      "file copied to db\n",
      "table businesses imported to db completed\n",
      "opened database successfully\n",
      "categories was created successfully\n",
      "file opened in memory\n",
      "file copied to db\n",
      "table categories imported to db completed\n",
      "opened database successfully\n",
      "countries was created successfully\n",
      "file opened in memory\n",
      "file copied to db\n",
      "table countries imported to db completed\n",
      "all tables have been successfully imported into the db\n"
     ]
    }
   ],
   "source": [
    "for k in csv_files:\n",
    "    dataframe = df[k]\n",
    "    \n",
    "    clean_tbl_name = k.lower().replace(\" \", \"_\").replace(\"-\",\"_\")\\\n",
    "                    .replace(r\"/\",\"_\").replace(\"\\\\\",\"_\")\\\n",
    "                    .replace(\"$\",\"\").replace(\"%\",\"\")\n",
    "    \n",
    "    #remove .csv extension from clean_tbl_name\n",
    "    tbl_name = '{0}'.format(clean_tbl_name.split('.')[0])\n",
    "    \n",
    "    dataframe.columns = [x.lower().replace(\" \", \"_\").replace(\"-\",\"_\")\\\n",
    "                    .replace(r\"/\",\"_\").replace(\"\\\\\",\"_\")\\\n",
    "                    .replace(\"$\",\"\").replace(\"%\",\"\") for x in dataframe.columns]   \n",
    "    \n",
    "    #replacment dictionary that maps pandas dtypes to sql dtypes\n",
    "    replacements = {\n",
    "    'object':'varchar',\n",
    "    'float64':'float',\n",
    "    'int64':'int',\n",
    "    'datetime64':'timestamp', \n",
    "    'timedelta64[ns]':'varchar'\n",
    "}    \n",
    "    \n",
    "    # table schema\n",
    "    \n",
    "    # create a list of formatted column names and data types\n",
    "    columns = [\"{} {}\".format(n, d) for (n, d) in zip(dataframe.columns, dataframe.dtypes.replace(replacements))]\n",
    "\n",
    "    # join the list into a comma-separated string\n",
    "    col_str = \", \".join(columns)\n",
    "    \n",
    "    # open a database connection\n",
    "    host='localhost'\n",
    "    dbname='DataCamp'\n",
    "    user='postgres'\n",
    "    password='..............'\n",
    "\n",
    "\n",
    "    conn_string = \"host=%s dbname=%s user=%s password=%s\" % (host, dbname, user, password)\n",
    "\n",
    "    conn = psycopg2.connect(conn_string)\n",
    "    cursor = conn.cursor()\n",
    "    print('opened database successfully')\n",
    "    \n",
    "    # drop tables with same name\n",
    "    cursor.execute('drop table if exists %s;' % (tbl_name))    \n",
    "    # creat table\n",
    "    cursor.execute('create table %s (%s)' % (tbl_name,col_str))\n",
    "    print('{0} was created successfully'.format(tbl_name))\n",
    "    \n",
    "    # insert values to table\n",
    "\n",
    "    # save the df to csv\n",
    "    dataframe.to_csv(k, header=dataframe.columns, index=False, encoding='utf-8')\n",
    "\n",
    "    # open the csv file, save it as an object\n",
    "    my_file = open(k)\n",
    "    print('file opened in memory')\n",
    "    \n",
    "    \n",
    "    # upload to db\n",
    "    SQL_statement = \"\"\"\n",
    "\n",
    "    COPY %s FROM STDIN WITH\n",
    "    CSV\n",
    "    HEADER\n",
    "    DELIMITER AS ','\n",
    "\n",
    "    \"\"\"\n",
    "\n",
    "    cursor.copy_expert(sql=SQL_statement % tbl_name, file=my_file)\n",
    "    print('file copied to db')\n",
    "    \n",
    "    conn.commit()\n",
    "    conn.close()\n",
    "    print('table {0} imported to db completed'.format(tbl_name))\n",
    "    \n",
    "#for loop end message\n",
    "print('all tables have been successfully imported into the db')"
   ]
  },
  {
   "cell_type": "code",
   "execution_count": null,
   "id": "cb47fc77",
   "metadata": {},
   "outputs": [],
   "source": []
  }
 ],
 "metadata": {
  "kernelspec": {
   "display_name": "Python 3 (ipykernel)",
   "language": "python",
   "name": "python3"
  },
  "language_info": {
   "codemirror_mode": {
    "name": "ipython",
    "version": 3
   },
   "file_extension": ".py",
   "mimetype": "text/x-python",
   "name": "python",
   "nbconvert_exporter": "python",
   "pygments_lexer": "ipython3",
   "version": "3.9.12"
  }
 },
 "nbformat": 4,
 "nbformat_minor": 5
}
